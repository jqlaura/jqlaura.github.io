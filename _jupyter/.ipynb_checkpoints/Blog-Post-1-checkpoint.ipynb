{
 "cells": [
  {
   "cell_type": "markdown",
   "id": "a80a09a7",
   "metadata": {},
   "source": [
    "In this blog, we are going to explore the global climate data by performing several database query and write functions to see detailed behaviors of climate change in different regions."
   ]
  },
  {
   "cell_type": "markdown",
   "id": "785687ac",
   "metadata": {},
   "source": [
    "Before we perform any coding, we would want to import all the necessary packages that we will use later on:"
   ]
  },
  {
   "cell_type": "code",
   "execution_count": null,
   "id": "a77362d5",
   "metadata": {},
   "outputs": [],
   "source": [
    "import pandas as pd\n",
    "import sqlite3\n",
    "import numpy as np\n",
    "from matplotlib import pyplot as plt\n",
    "import seaborn as sns\n",
    "from plotly import express as px\n",
    "from sklearn.linear_model import LinearRegression\n",
    "import calendar\n",
    "import plotly.io as pio"
   ]
  },
  {
   "cell_type": "markdown",
   "id": "02f1fcf6",
   "metadata": {},
   "source": [
    "Now we are ready to go!"
   ]
  },
  {
   "cell_type": "markdown",
   "id": "cf9f8d7b",
   "metadata": {},
   "source": [
    "# §1. Create a Database"
   ]
  },
  {
   "cell_type": "markdown",
   "id": "2e11cbe3",
   "metadata": {},
   "source": [
    "To create the database we need, we want to connect to SQL, create oen database with three tables: **temperature, countries, and stations**, the data from which we will make use of."
   ]
  },
  {
   "cell_type": "code",
   "execution_count": null,
   "id": "cde8c051",
   "metadata": {},
   "outputs": [],
   "source": [
    "#build connection\n",
    "conn = sqlite3.connect(\"climate.db\")"
   ]
  },
  {
   "cell_type": "code",
   "execution_count": null,
   "id": "7942b7a4",
   "metadata": {},
   "outputs": [],
   "source": [
    "#prepare the temperature data as we wanted\n",
    "def prepare_df(df):\n",
    "    df = df.set_index(keys=[\"ID\", \"Year\"])\n",
    "    df = df.stack()\n",
    "    df = df.reset_index()\n",
    "    df = df.rename(columns = {\"level_2\" : \"Month\" , 0 : \"Temp\"}) \n",
    "    df[\"Month\"] = df[\"Month\"].str[5:].astype(int)\n",
    "    df[\"Temp\"] = df[\"Temp\"] / 100\n",
    "    return(df)"
   ]
  },
  {
   "cell_type": "markdown",
   "id": "15133003",
   "metadata": {},
   "source": [
    "When one dataset is too large, we want to deal with it piece by piece using *df_iter*:"
   ]
  },
  {
   "cell_type": "code",
   "execution_count": null,
   "id": "b2ba9213",
   "metadata": {},
   "outputs": [],
   "source": [
    "df_iter = pd.read_csv(\"temps.csv\", chunksize = 100000) \n",
    "for df in df_iter:\n",
    "    df = prepare_df(df)\n",
    "    df.to_sql(\"temperatures\", conn, if_exists = \"append\", index = False)"
   ]
  },
  {
   "cell_type": "code",
   "execution_count": null,
   "id": "ad30a038",
   "metadata": {},
   "outputs": [],
   "source": [
    "stations = pd.read_csv(\"station-metadata.csv\")\n",
    "stations.to_sql(\"stations\", conn, if_exists = \"replace\", index = False)"
   ]
  },
  {
   "cell_type": "code",
   "execution_count": null,
   "id": "45ee509f",
   "metadata": {},
   "outputs": [],
   "source": [
    "countries = pd.read_csv(\"countries.csv\")\n",
    "countries.to_sql(\"countries\", conn, if_exists = \"replace\", index = False)"
   ]
  },
  {
   "cell_type": "markdown",
   "id": "efef80ec",
   "metadata": {},
   "source": [
    "Now we use the *cursor* to take a quick look at what columns our tables have:"
   ]
  },
  {
   "cell_type": "code",
   "execution_count": null,
   "id": "3822a9d6",
   "metadata": {},
   "outputs": [],
   "source": [
    "cursor = conn.cursor()\n",
    "cursor.execute(\"SELECT sql FROM sqlite_master WHERE type='table';\")\n",
    "for result in cursor.fetchall(): print(result[0])"
   ]
  },
  {
   "cell_type": "code",
   "execution_count": null,
   "id": "bd396b3d",
   "metadata": {},
   "outputs": [],
   "source": [
    "#don't forget to close the connection\n",
    "conn.close()"
   ]
  },
  {
   "cell_type": "markdown",
   "id": "a43649e7",
   "metadata": {},
   "source": [
    "# §2. Write a Query Function"
   ]
  },
  {
   "cell_type": "markdown",
   "id": "7f9feb30",
   "metadata": {},
   "source": [
    "After preparing our database, we want to actually take a close look at our data. The first question we want to ask is: how can we write a function (and a necessary query) so that we can look at the annual temperature changes for stations in a certain country over time?"
   ]
  },
  {
   "cell_type": "markdown",
   "id": "166d2000",
   "metadata": {},
   "source": [
    "Below is how I would write the required query:"
   ]
  },
  {
   "cell_type": "code",
   "execution_count": null,
   "id": "62fb97c8",
   "metadata": {},
   "outputs": [],
   "source": [
    "def query_climate_database(country, year_begin, year_end, month):\n",
    "    \"\"\"\n",
    "    This query retrieves the data for a certain country\n",
    "    with the given time period in the given month, and\n",
    "    returns a DataFrame.\n",
    "    \"\"\"\n",
    "    #connect to database\n",
    "    conn = sqlite3.connect(\"climate.db\")\n",
    "    #write our command as a string\n",
    "    cmd = \\\n",
    "    '''\n",
    "    SELECT S.name,S.latitude,S.longitude,C.name as Country,\n",
    "    T.year,T.month,T.temp\n",
    "    FROM stations S\n",
    "    LEFT JOIN temperatures T ON S.id = T.id\n",
    "    LEFT JOIN countries C ON substring(T.id,1,2) = C.`FIPS 10-4`\n",
    "    WHERE T.year >= {year_begin}\n",
    "    AND T.year <= {year_end}\n",
    "    AND T.month = {month}\n",
    "    AND C.name = \"{country}\"\n",
    "    '''.format(year_begin = year_begin, year_end = year_end,\\\n",
    "               month = month, country = country)\n",
    "    #query the database\n",
    "    df = pd.read_sql_query(cmd, conn)\n",
    "    conn.close()\n",
    "    return df"
   ]
  },
  {
   "cell_type": "markdown",
   "id": "0972a80f",
   "metadata": {},
   "source": [
    "# §3. Write a Geographic Scatter Function for Yearly Temperature Increases"
   ]
  },
  {
   "cell_type": "markdown",
   "id": "49f7de1f",
   "metadata": {},
   "source": [
    "## Fig 1. Geographic Plot"
   ]
  },
  {
   "cell_type": "markdown",
   "id": "8404801f",
   "metadata": {},
   "source": [
    "Before we define our main function, we would also want to write a *coef* function that calculates the first coefficient of a linear regression model at a certain station:"
   ]
  },
  {
   "cell_type": "code",
   "execution_count": null,
   "id": "a50c642f",
   "metadata": {},
   "outputs": [],
   "source": [
    "def coef(data_group):\n",
    "    x = data_group[[\"Year\"]]\n",
    "    y = data_group[\"Temp\"]  \n",
    "    LR = LinearRegression()\n",
    "    LR.fit(x, y)\n",
    "    return LR.coef_[0]"
   ]
  },
  {
   "cell_type": "markdown",
   "id": "faaf0da4",
   "metadata": {},
   "source": [
    "Now we should define our major function that helps us visualize the temperature changes."
   ]
  },
  {
   "cell_type": "code",
   "execution_count": null,
   "id": "4466a07c",
   "metadata": {},
   "outputs": [],
   "source": [
    "def temperature_coefficient_plot(country, year_begin, year_end, \n",
    "                                 month,min_obs,**kwargs):\n",
    "    \"\"\"\n",
    "    This function creates a plot that visualizes the temperature changes\n",
    "    at different stations in a certain country during a given period.\n",
    "    \"\"\"\n",
    "    #use the previous query we created\n",
    "    df = query_climate_database(country,year_begin,year_end,month);\n",
    "    #only accept data from stations with >= 10 observations\n",
    "    df['obs'] = df.groupby(['NAME'])['Year'].transform(\"count\")\n",
    "    df = df[df['obs'] >= min_obs]\n",
    "    \n",
    "    #calculates the coefficients\n",
    "    coefs = df.groupby(['NAME']).apply(coef)\n",
    "    coefs = coefs.reset_index()\n",
    "    #merge the coefficient dataset with df and round the coefs\n",
    "    df = pd.merge(df, coefs, on = ['NAME'])\n",
    "    df['coefficient'] = df[0].round(3)\n",
    "    \n",
    "    #create the figure\n",
    "    fig = px.scatter_mapbox(df,\n",
    "                        lat = \"LATITUDE\",\n",
    "                        lon = \"LONGITUDE\",\n",
    "                        hover_name = \"NAME\",\n",
    "                        color = \"coefficient\",\n",
    "                        color_continuous_midpoint = 0,\n",
    "                        opacity = 0.5,\n",
    "                        height = 300,\n",
    "                        title = \"\"\"\n",
    "                        Estimates of yearly increase in temperature in {month}\\\n",
    "                        <br>for stations in {country}, years {begin} - {end}\n",
    "                \"\"\".format(month = calendar.month_name[month],\n",
    "                        country = country, begin = year_begin,\n",
    "                        end = year_end),\n",
    "                        **kwargs)\n",
    "    fig.update_layout(margin={\"r\":0,\"t\":50,\"l\":0,\"b\":0},\n",
    "                    title_yanchor = 'middle',\n",
    "                    font_size=12,\n",
    "                    title_font_size = 16)\n",
    "    fig.update_layout(coloraxis_colorbar=dict(\n",
    "    title=\"Estimated yearly<br>Increase (°C)\"))\n",
    "    \n",
    "    #returns the figure\n",
    "    return fig"
   ]
  },
  {
   "cell_type": "code",
   "execution_count": null,
   "id": "e8fa07c2",
   "metadata": {},
   "outputs": [],
   "source": [
    "#choose a nice-looking color map\n",
    "color_map = px.colors.diverging.RdGy_r"
   ]
  },
  {
   "cell_type": "markdown",
   "id": "6bfb59fe",
   "metadata": {},
   "source": [
    "Now, if we want to examine the patterns of temperature changes in Indian stations from 1980 to 2020 specifically in January, we can run the codes below:"
   ]
  },
  {
   "cell_type": "code",
   "execution_count": null,
   "id": "2573e230",
   "metadata": {},
   "outputs": [],
   "source": [
    "#Need Modification"
   ]
  },
  {
   "cell_type": "markdown",
   "id": "eee4abb1",
   "metadata": {},
   "source": [
    "This looks really cool. We can see that approximately there are more areas where temperatures are increasing over years, comparing to decreasing. This might be a sign of global warming."
   ]
  },
  {
   "cell_type": "markdown",
   "id": "32e977da",
   "metadata": {},
   "source": [
    "# §4. Create Two More Interesting Figures"
   ]
  },
  {
   "cell_type": "markdown",
   "id": "98ffc07e",
   "metadata": {},
   "source": [
    "## Fig 2. Monthly Temperature Plot"
   ]
  },
  {
   "cell_type": "markdown",
   "id": "dfb0f16f",
   "metadata": {},
   "source": [
    "The first extra plot I want to draw can be asked to answer the following question: how did average temperature change every year for a certain country, in each month of the year?"
   ]
  },
  {
   "cell_type": "markdown",
   "id": "4675ddfc",
   "metadata": {},
   "source": [
    "If the question seems a bit hard to understand, looking at my code below might help expalin a bit."
   ]
  },
  {
   "cell_type": "markdown",
   "id": "fabf1762",
   "metadata": {},
   "source": [
    "The query below retrieves the data in a similar way as query_1, but we don't have to specify the month:"
   ]
  },
  {
   "cell_type": "code",
   "execution_count": null,
   "id": "425573c6",
   "metadata": {},
   "outputs": [],
   "source": [
    "def query_2(country, year_begin, year_end):\n",
    "    conn = sqlite3.connect(\"climate.db\")\n",
    "    #write our command as a string\n",
    "    cmd = \\\n",
    "    '''\n",
    "    SELECT S.name,C.name as Country, T.year,T.month,T.temp\n",
    "    FROM stations S\n",
    "    LEFT JOIN temperatures T ON S.id = T.id\n",
    "    LEFT JOIN countries C ON substring(T.id,1,2) = C.`FIPS 10-4`\n",
    "    WHERE T.year >= {year_begin}\n",
    "    AND T.year <= {year_end}\n",
    "    AND C.name = \"{country}\"\n",
    "    '''.format(year_begin = year_begin, year_end = year_end,\\\n",
    "               country = country)\n",
    "    #read the data into our dataframe\n",
    "    df = pd.read_sql_query(cmd, conn)\n",
    "    conn.close()\n",
    "    return df"
   ]
  },
  {
   "cell_type": "markdown",
   "id": "1a999f18",
   "metadata": {},
   "source": [
    "Now we want to actually define our plotting function as below:"
   ]
  },
  {
   "cell_type": "code",
   "execution_count": null,
   "id": "a036c746",
   "metadata": {},
   "outputs": [],
   "source": [
    "def monthly_temp_plot(country, year_begin, year_end):\n",
    "    '''\n",
    "    This function calculates the average monthly temperature in a\n",
    "    specific country over the given years, displaying the pattern of\n",
    "    temperature change over year during each month.\n",
    "    '''\n",
    "    #prepare the dataframe needed\n",
    "    df = query_2(country, year_begin, year_end)\n",
    "    df = df.groupby(['Year','Month'])['Temp'].aggregate(np.mean)\n",
    "    df = df.reset_index()\n",
    "    \n",
    "    #change the \"month\" column from numbers to names for visualization\n",
    "    #purposes\n",
    "    df['Month'] = df['Month'].apply(lambda x: calendar.month_abbr[x])\n",
    "    \n",
    "    #create the figure, with one line representing a specific month\n",
    "    #fig,ax=plt.subplots(figsize=(10,8))\n",
    "    ax = sns.lineplot(data = df, x = \"Year\", y = \"Temp\", hue = \"Month\", \n",
    "             sizes = (600,500),palette = \"hls\")\n",
    "    #add legend, labels and titles\n",
    "    ax.legend(bbox_to_anchor=(1.02, 1), loc='upper left', borderaxespad=0)\n",
    "    ax.set_ylabel(\"Average Monthly Temp\")\n",
    "    ax.set_title('''Average Monthly Temperature in {country},\n",
    "    from {begin} to {end}'''\n",
    "                 .format(country = country, begin = year_begin,\n",
    "                      end = year_end))\n",
    "    \n",
    "    fig = ax.get_figure()"
   ]
  },
  {
   "cell_type": "markdown",
   "id": "699b7295",
   "metadata": {},
   "source": [
    "Finally we can perform our analysis! In particular, I am curious about the change in temperature in Antarctica, and see the temperature difference in each month over time. I would run the function as below:"
   ]
  },
  {
   "cell_type": "code",
   "execution_count": null,
   "id": "736ef8ff",
   "metadata": {},
   "outputs": [],
   "source": [
    "monthly_temp_plot(\"Antarctica\", 1990, 2020)"
   ]
  },
  {
   "cell_type": "markdown",
   "id": "15d9f426",
   "metadata": {},
   "source": [
    "This result is pretty surprising! Indeed the graph shows that average monthly temperature is declining over time in Antarctica. Interesting."
   ]
  },
  {
   "cell_type": "markdown",
   "id": "5a55d2e6",
   "metadata": {},
   "source": [
    "## Fig 3. Extreme Temperature Comparison Plot"
   ]
  },
  {
   "cell_type": "markdown",
   "id": "bbd94eed",
   "metadata": {},
   "source": [
    "My third graph, as you can see from the plot name, is used to compare the extreme temperature for two countries over the same time period ( two scatterplots will be created). <br>We still need a new query for this function; however, I want to point out that I'm using a more efficient way to write my query (and function) because I calculated the summary statistics in the query step instead of in the major function, which should save quite a bit of memory & running time."
   ]
  },
  {
   "cell_type": "code",
   "execution_count": null,
   "id": "c7894244",
   "metadata": {},
   "outputs": [],
   "source": [
    "def query_3(country, year_begin, year_end):\n",
    "    #connect to database and write command as a string\n",
    "    conn = sqlite3.connect(\"climate.db\")\n",
    "    cmd = \\\n",
    "    '''\n",
    "    SELECT C.name as Country,T.year,ROUND(MAX(T.temp),2)\n",
    "    as `Max Temp`,ROUND(MIN(T.temp),2) as `Min Temp`\n",
    "    FROM Temperatures T\n",
    "    LEFT JOIN countries C ON substring(T.id,1,2) = C.`FIPS 10-4`\n",
    "    WHERE T.year >= {year_begin}\n",
    "    AND T.year <= {year_end}\n",
    "    AND C.name IN {country}\n",
    "    GROUP BY C.name, T.year \n",
    "    '''.format(year_begin = year_begin, year_end = year_end,\n",
    "              country = country)\n",
    "    \n",
    "    #create the dataframe we want\n",
    "    df = pd.read_sql_query(cmd, conn)\n",
    "    conn.close()\n",
    "    return df"
   ]
  },
  {
   "cell_type": "markdown",
   "id": "35fd9fd7",
   "metadata": {},
   "source": [
    "And next is our function:"
   ]
  },
  {
   "cell_type": "code",
   "execution_count": null,
   "id": "7bc577f4",
   "metadata": {},
   "outputs": [],
   "source": [
    "def extreme_temp_comparison_plot(country1,country2,year_begin,year_end):\n",
    "    \"\"\"\n",
    "    This function compares the extreme temperature values in each year\n",
    "    during the given time period for the two countrys. This function\n",
    "    will create two plots, allowing us to make comparison.\n",
    "    \"\"\"\n",
    "    df = query_3((country1, country2), year_begin, year_end)\n",
    "\n",
    "    #choose a pretty template\n",
    "    pio.templates.default = \"plotly_white\"\n",
    "    #draw the scatterplot\n",
    "    fig = px.scatter(data_frame = df,\n",
    "                x = \"Year\",\n",
    "                y = [\"Max Temp\",\"Min Temp\"],\n",
    "                facet_col = \"Country\",\n",
    "                color_discrete_map = {\"Max Temp\":\"tomato\",\n",
    "                                     \"Min Temp\":\"deepskyblue\"},\n",
    "                width = 700,\n",
    "                height = 400,\n",
    "                opacity = 0.8)\n",
    "    #update the layout\n",
    "    fig.update_layout(title='''Extreme Temperature Dynamics of {C1} and\n",
    "    {C2} during {begin} and {end}'''.format(C1 = country1, C2 = country2,\n",
    "                                begin = year_begin, end = year_end),\n",
    "                yaxis_title=\"Extreme Temperatures (Max & Min)\",\n",
    "                legend_title=\"Extreme Type\",\n",
    "                font_size = 12,\n",
    "                title_font_size = 16)\n",
    "    #return figure\n",
    "    return fig"
   ]
  },
  {
   "cell_type": "markdown",
   "id": "8e511600",
   "metadata": {},
   "source": [
    "I want to look at the difference and similarity between extreme temperatures in China and Japan, two neighboring Asian countries, over recent decades:"
   ]
  },
  {
   "cell_type": "code",
   "execution_count": null,
   "id": "0d923b6b",
   "metadata": {},
   "outputs": [],
   "source": [
    "extreme_temp_comparison_plot(\"China\",\"Japan\",1980,2020)"
   ]
  },
  {
   "cell_type": "markdown",
   "id": "5f36ef39",
   "metadata": {},
   "source": [
    "This plot also provides valuable insight into climate changes over the world. We can see that abnormally, there is a big jump in the lowest temperature in Japan (from -18.49 in 2010 to -7.66 in 2011), and that the lowest value never returns back to the original level but stays at the high level. "
   ]
  },
  {
   "cell_type": "markdown",
   "id": "85cb5c84",
   "metadata": {},
   "source": [
    "I want to conclude with the fact that the accuracy of these plots can be significantly affected by the raw data itself, provided that the function designs work well. But overall, this should be a very interesting blog!"
   ]
  }
 ],
 "metadata": {
  "kernelspec": {
   "display_name": "Python [conda env:PIC16B] *",
   "language": "python",
   "name": "conda-env-PIC16B-py"
  },
  "language_info": {
   "codemirror_mode": {
    "name": "ipython",
    "version": 3
   },
   "file_extension": ".py",
   "mimetype": "text/x-python",
   "name": "python",
   "nbconvert_exporter": "python",
   "pygments_lexer": "ipython3",
   "version": "3.8.12"
  }
 },
 "nbformat": 4,
 "nbformat_minor": 5
}
