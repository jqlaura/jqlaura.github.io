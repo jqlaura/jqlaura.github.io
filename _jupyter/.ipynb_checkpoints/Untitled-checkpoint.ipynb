{
 "cells": [
  {
   "cell_type": "code",
   "execution_count": null,
   "id": "19fca21d",
   "metadata": {},
   "outputs": [],
   "source": [
    "temperature_coefficient_plot(\"India\", 1980, 2020, 1,\n",
    "min_obs = 10, \n",
    "zoom = 2,\n",
    "mapbox_style=\"carto-positron\",\n",
    "color_continuous_scale=color_map)"
   ]
  }
 ],
 "metadata": {
  "kernelspec": {
   "display_name": "Python [conda env:PIC16B] *",
   "language": "python",
   "name": "conda-env-PIC16B-py"
  },
  "language_info": {
   "codemirror_mode": {
    "name": "ipython",
    "version": 3
   },
   "file_extension": ".py",
   "mimetype": "text/x-python",
   "name": "python",
   "nbconvert_exporter": "python",
   "pygments_lexer": "ipython3",
   "version": "3.8.12"
  }
 },
 "nbformat": 4,
 "nbformat_minor": 5
}
