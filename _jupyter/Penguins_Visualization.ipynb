{
 "cells": [
  {
   "cell_type": "markdown",
   "id": "29264f83",
   "metadata": {},
   "source": [
    "First, we would want to import the dataset from the url:"
   ]
  },
  {
   "cell_type": "code",
   "execution_count": 1,
   "id": "55864a6a",
   "metadata": {},
   "outputs": [],
   "source": [
    "import pandas as pd\n",
    "import numpy as np\n",
    "from matplotlib import pyplot as plt\n",
    "\n",
    "\n",
    "url = \"https://raw.githubusercontent.com/PhilChodrow/PIC16B/master/datasets/palmer_penguins.csv\"\n",
    "penguins = pd.read_csv(url)"
   ]
  },
  {
   "cell_type": "markdown",
   "id": "ac1f42f5",
   "metadata": {},
   "source": [
    "For our visualization specifically, we want to take a close look at the culmen length for different penguin species. We will simplify the data as follows:"
   ]
  },
  {
   "cell_type": "code",
   "execution_count": 2,
   "id": "f61dcc0c",
   "metadata": {},
   "outputs": [],
   "source": [
    "# specify only the two columns we need for this visualization\n",
    "cols = [\"Species\", \"Culmen Length (mm)\"]\n",
    "\n",
    "# select a subset of columns\n",
    "penguins = penguins[cols]\n",
    "\n",
    "# shorten the species name\n",
    "penguins[\"Species\"] = penguins[\"Species\"].str.split().str.get(0)"
   ]
  },
  {
   "cell_type": "markdown",
   "id": "5115ea89",
   "metadata": {},
   "source": [
    "Now, we want to visualize the distribution of culmen length for different penguin species. We want to draw a histogram for our visualization:"
   ]
  },
  {
   "cell_type": "code",
   "execution_count": 3,
   "id": "a98671a8",
   "metadata": {
    "scrolled": true
   },
   "outputs": [
    {
     "data": {
      "image/png": "[encoded data removed]",
      "text/plain": [
       "<Figure size 432x288 with 1 Axes>"
      ]
     },
     "metadata": {
      "needs_background": "light"
     },
     "output_type": "display_data"
    }
   ],
   "source": [
    "#Create fig and ax\n",
    "fig, ax = plt.subplots(1)\n",
    "\n",
    "#Define a function that helps us to plot the histogram \n",
    "def plot_hist(df, colname, alpha): \n",
    "    ax.hist(df[colname], alpha = alpha, label = df['Species'])\n",
    "\n",
    "#apply the function for each species\n",
    "penguins.groupby(\"Species\").apply(plot_hist, 'Culmen Length (mm)', 0.5)\n",
    "\n",
    "#Set title, labels and display legends\n",
    "ax.set_title('Culmen Length Distribution of Different Penguin Species')\n",
    "ax.set_xlabel('Culmen Length')\n",
    "ax.set_ylabel('Counts')\n",
    "ax.legend()\n",
    "plt.savefig('Visualization.png')"
   ]
  },
  {
   "cell_type": "markdown",
   "id": "6e796bc5",
   "metadata": {},
   "source": [
    "Now we shall see that for the Adelie penguins, the average culmen length is the shortest. There is a lot of overlapping with respect to the culmen lengths of Chinstrap and Gentoo penguins. This is the end of our simple visualization!"
   ]
  },
  {
   "cell_type": "code",
   "execution_count": null,
   "id": "02887d27",
   "metadata": {},
   "outputs": [],
   "source": []
  }
 ],
 "metadata": {
  "kernelspec": {
   "display_name": "Python [conda env:PIC16B] *",
   "language": "python",
   "name": "conda-env-PIC16B-py"
  },
  "language_info": {
   "codemirror_mode": {
    "name": "ipython",
    "version": 3
   },
   "file_extension": ".py",
   "mimetype": "text/x-python",
   "name": "python",
   "nbconvert_exporter": "python",
   "pygments_lexer": "ipython3",
   "version": "3.8.12"
  }
 },
 "nbformat": 4,
 "nbformat_minor": 5
}
